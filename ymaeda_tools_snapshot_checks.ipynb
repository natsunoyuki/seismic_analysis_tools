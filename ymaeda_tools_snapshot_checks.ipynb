{
 "cells": [
  {
   "cell_type": "code",
   "execution_count": 1,
   "metadata": {},
   "outputs": [],
   "source": [
    "import time\n",
    "import os\n",
    "\n",
    "import numpy as np\n",
    "import matplotlib.pyplot as plt\n",
    "\n",
    "from sklearn.metrics import r2_score\n",
    "\n",
    "from ymaeda_tools.dft import dft, exidft_cplx\n",
    "from ymaeda_tools.read_stfun import create_timefunc_pow34\n",
    "from ymaeda_tools.read_snapshot import read_snapshot_params, snapshot_stnloc\n",
    "from ymaeda_tools.read_snapshot import snapshot_XYZ, read_snapshot_loc3D_fast, extract_snapshot\n",
    "\n",
    "# This script verifies the Green's functions created by YMAEDA_TOOLS\n",
    "# This script also verifies certain properties of the \"true\" Green's functions as well as the\n",
    "# \"effective\" Green's functions used to perform the actual FDM calculations.\n",
    "\n",
    "df = 0.002441406 # frequency step size used by YMAEDA_TOOLS\n",
    "f = np.arange(0, df * 2049, df) # frequency half space\n",
    "F = np.arange(0, df * 4096, df) # frequency full space\n",
    "\n",
    "STATION = \"SMN_UD_SMALL\" # UD (z-direction) impulse to kick start the GF generation\n",
    "#HDD_LOC = \"/Users/ynatsume/jupyter_main/Shinmoedake Data/\" \n",
    "HDD_LOC = \"/Volumes/TOSHIBA_HDD/Final Year Projects/Shinmoedake Data/EIC_BACKUP/home/natsume/\"\n",
    "GREENS_FUNCTION = \"pow34\""
   ]
  },
  {
   "cell_type": "code",
   "execution_count": 2,
   "metadata": {},
   "outputs": [
    {
     "name": "stdout",
     "output_type": "stream",
     "text": [
      "pow34 chosen...\n",
      "Time elapsed: 0.603s\n"
     ]
    }
   ],
   "source": [
    "STARTTIME = time.time()\n",
    "\n",
    "if GREENS_FUNCTION == 'pow5':\n",
    "    print('pow5 chosen...')\n",
    "    snapshot_dir = os.path.join(HDD_LOC, \"GFpow5/\", STATION, \"PML/snapshot/\")\n",
    "    T, FT = create_timefunc_pow5(tp = 1, size = 121, t0 = 0, dt = 0.1)\n",
    "    # using a time function of higher resolution might lead to better results?\n",
    "    # T, FT = create_timefunc_pow5(tp = 1, size = 1001, t0 = 0, dt = 0.001)\n",
    "    # PAD_BUFFER = np.zeros(len(F)-len(T))\n",
    "    PAD_BUFFER = np.zeros(400)\n",
    "    FTw = dft(np.hstack([PAD_BUFFER, FT, np.ones(len(F)-len(PAD_BUFFER)-len(FT))]))\n",
    "    FT1 = FTw[0:len(f)] # keep only the first half\n",
    "    # instead of creating and calculating TF and FT1, load the output values from YMAEDA_TOOLS?\n",
    "    #T, FT = read_stfunseq2(stfun_dir)\n",
    "    #F, FTw = read_stfunspecseq2(stfun_dir)\n",
    "    #f = F[0:2049]\n",
    "    #FT1 = FTw[0:2049]\n",
    "elif GREENS_FUNCTION == 'pow34':\n",
    "    print('pow34 chosen...')\n",
    "    snapshot_dir = os.path.join(HDD_LOC, \"GFpow34/\", STATION, \"PML/snapshot/\")\n",
    "    T, FT = create_timefunc_pow34(tp = 1, size = 121, t0 = 0, dt = 0.1)\n",
    "    #T,FT = create_timefunc_pow34(tp = 1, size = 1001, t0 = 0, dt = 0.001)\n",
    "    FTw = dft(np.hstack([FT, np.zeros(len(F)-len(FT))]))\n",
    "    FT1 = FTw[0:len(f)] # keep only the first half\n",
    "elif GREENS_FUNCTION == 'cos':\n",
    "    print('cos chosen...')\n",
    "    snapshot_dir = os.path.join(HDD_LOC, \"GFcos/\", STATION, \"PML/snapshot/\")\n",
    "    T, FT = create_timefunc_cos(tp = 1, size = 121, t0 = 0, dt = 0.1)\n",
    "    #T, FT = create_timefunc_cos(tp = 1, size = 1001, t0 = 0, dt = 0.001)\n",
    "    FTw = dft(np.hstack([FT, np.zeros(len(F)-len(FT))]))\n",
    "    FT1 = FTw[0:len(f)] # keep only the first half  \n",
    "\n",
    "print(\"Time elapsed: {:.3f}s\".format(time.time()-STARTTIME))"
   ]
  },
  {
   "cell_type": "code",
   "execution_count": 3,
   "metadata": {},
   "outputs": [
    {
     "data": {
      "image/png": "[encoded data removed]",
      "text/plain": [
       "<Figure size 1080x360 with 1 Axes>"
      ]
     },
     "metadata": {
      "needs_background": "light"
     },
     "output_type": "display_data"
    }
   ],
   "source": [
    "# Plot the source time function used to generate the \"effective\" Green's functions\n",
    "plt.figure(figsize = (15, 5))\n",
    "plt.plot(T, FT)\n",
    "plt.grid(True)\n",
    "plt.xlabel(\"Time (s)\")\n",
    "plt.ylabel(\"Amplitude\")\n",
    "plt.show()"
   ]
  },
  {
   "cell_type": "code",
   "execution_count": 4,
   "metadata": {},
   "outputs": [
    {
     "name": "stdout",
     "output_type": "stream",
     "text": [
      "N: (161, 160, 140), x0: (-11800.0, -121495.0, 5.0), dx: (10.0, 10.0, 10.0).\n",
      "idx: 90, idy: 39, idz: 99.\n",
      "Time elapsed: 174.319s\n"
     ]
    }
   ],
   "source": [
    "# Load the snapshot parameters from the .3db file output by YMAEDA_TOOLS\n",
    "N, x0, dx = read_snapshot_params(snapshot_file = snapshot_dir + \"source.Fx.t0.0000.3db\")\n",
    "print(\"N: {}, x0: {}, dx: {}.\".format(N, x0, dx))\n",
    "\n",
    "# Obtain the actual element indices!\n",
    "# Seismometer and LP source locations:\n",
    "# SMN: -11175, -119878, 1317\n",
    "# SMW: -12295, -120893, 1110\n",
    "# LP:  -10900, -121100, 1000\n",
    "idx, idy, idz = snapshot_stnloc(N, x0, dx, -10900, -121100, 1000)\n",
    "print(\"idx: {}, idy: {}, idz: {}.\".format(idx, idy, idz))\n",
    "\n",
    "# This is strictly not needed...\n",
    "#X, Y, Z = snapshot_XYZ(N, x0, dx)\n",
    "\n",
    "STARTTIME = time.time()\n",
    "# read the Green's function snapshot at the specified location calculated by YMAEDA_TOOLS.\n",
    "# This Green's function is not the true Green's function, but is the original Green's function\n",
    "# convolved with the source time function: g'(t) = s(t) * g(t)\n",
    "#t, g = read_snapshot_loc3D_fast(snapshot_dir = snapshot_dir, X = idx, Y = idy, Z = idz)\n",
    "\n",
    "t, g = extract_snapshot(snapshot_dir, -10900, -121100, 1000)\n",
    "\n",
    "print(\"Time elapsed: {:.3f}s\".format(time.time()-STARTTIME))"
   ]
  },
  {
   "cell_type": "code",
   "execution_count": 5,
   "metadata": {},
   "outputs": [
    {
     "name": "stdout",
     "output_type": "stream",
     "text": [
      "Time elapsed: 0.000s\n"
     ]
    }
   ],
   "source": [
    "STARTTIME = time.time()\n",
    "# read the Green's function snapshot at the specified location calculated by YMAEDA_TOOLS.\n",
    "# This Green's function is not the true Green's function, but is the original Green's function\n",
    "# convolved with the source time function: g'(t) = s(t) * g(t)\n",
    "\n",
    "# read_snapshot_loc_3D_fast is outdated and has been replaced by extract_snapshot.\n",
    "#t, g = read_snapshot_loc3D_fast(snapshot_dir = snapshot_dir, X = idx, Y = idy, Z = idz)\n",
    "#t, g = extract_snapshot(snapshot_dir, -10900, -121100, 1000)\n",
    "\n",
    "print(\"Time elapsed: {:.3f}s\".format(time.time()-STARTTIME))"
   ]
  },
  {
   "cell_type": "code",
   "execution_count": 6,
   "metadata": {},
   "outputs": [
    {
     "data": {
      "image/png": "[encoded data removed]",
      "text/plain": [
       "<Figure size 1080x360 with 1 Axes>"
      ]
     },
     "metadata": {
      "needs_background": "light"
     },
     "output_type": "display_data"
    }
   ],
   "source": [
    "plt.figure(figsize = (15, 5))\n",
    "plt.plot(t, g[:,0], t, g[:,1], t, g[:,2])\n",
    "plt.legend([\"x\", \"y\", \"z\"])\n",
    "plt.grid(True)\n",
    "plt.xlabel(\"Time (s)\")\n",
    "plt.ylabel(\"Velocity (m/s)\")\n",
    "plt.show()"
   ]
  },
  {
   "cell_type": "code",
   "execution_count": null,
   "metadata": {},
   "outputs": [],
   "source": [
    "# Instead of reading the 3 dimensional time series for a particular point for each station-impulse\n",
    "# combination, in reality, the time series are loaded and processed differently. \n",
    "# For some ith direction motion recorded at some station, read the ith direction Green's functions\n",
    "# for all 3 impulse directions at that station.\n",
    "# E.g. SMN-X: G-XX G-XY G-XZ"
   ]
  },
  {
   "cell_type": "code",
   "execution_count": null,
   "metadata": {},
   "outputs": [],
   "source": [
    "# In the next few sections, we confirm that the \"effective\" Green's functions are equal\n",
    "# to the convolution of the \"true\" Green's functions and the source time function.\n",
    "\n",
    "# \"True\" Green's functions cannot be simulated accurately due to the fact that a Dirac delta\n",
    "# pulse is not numerically stable. A source time function is used to generate the pulse, and this\n",
    "# results in \"effective\" Green's functions instead."
   ]
  },
  {
   "cell_type": "code",
   "execution_count": null,
   "metadata": {},
   "outputs": [],
   "source": [
    "STARTTIME = time.time()\n",
    "\n",
    "# Zero pad the snapshot Green's functions with zeros, and perform DFT\n",
    "if GREENS_FUNCTION == \"pow34\":\n",
    "    G0 = dft(np.hstack([g[:,0], np.zeros(len(F)-len(g[:,0]))])) * (t[2]-t[1])\n",
    "    G1 = dft(np.hstack([g[:,1], np.zeros(len(F)-len(g[:,0]))])) * (t[2]-t[1])\n",
    "    G2 = dft(np.hstack([g[:,2], np.zeros(len(F)-len(g[:,0]))])) * (t[2]-t[1])\n",
    "elif GREENS_FUNCTION == \"pow5\":\n",
    "    G0 = dft(np.hstack([g[:,0], np.zeros(len(F)-len(g[:,0]))])) * (t[2]-t[1])\n",
    "    G1 = dft(np.hstack([g[:,1], np.zeros(len(F)-len(g[:,1]))])) * (t[2]-t[1])\n",
    "    G2 = dft(np.hstack([g[:,2], np.zeros(len(F)-len(g[:,2]))])) * (t[2]-t[1])\n",
    "elif GREENS_FUNCTION == \"cos\":\n",
    "    G0 = dft(np.hstack([g[:,0], np.zeros(len(F)-len(g[:,0]))])) * (t[2]-t[1])\n",
    "    G1 = dft(np.hstack([g[:,1], np.zeros(len(F)-len(g[:,1]))])) * (t[2]-t[1])\n",
    "    G2 = dft(np.hstack([g[:,2], np.zeros(len(F)-len(g[:,2]))])) * (t[2]-t[1])\n",
    "    \n",
    "G0 = G0[0:len(f)]\n",
    "G1 = G1[0:len(f)]\n",
    "G2 = G2[0:len(f)]\n",
    "\n",
    "print(\"Time elapsed: {:.3f}s\".format(time.time()-STARTTIME))"
   ]
  },
  {
   "cell_type": "code",
   "execution_count": null,
   "metadata": {},
   "outputs": [],
   "source": [
    "STARTTIME = time.time()\n",
    "\n",
    "# Numerical deconvolution in frequency space by simple division.\n",
    "G00 = G0 / FT1\n",
    "G10 = G1 / FT1\n",
    "G20 = G2 / FT1\n",
    "# iDFT to get the deconvolved signal in time space. Do not forget the 1/dt factor!\n",
    "g00 = np.real(exidft_cplx(G00)) / (t[2]-t[1])\n",
    "g10 = np.real(exidft_cplx(G10)) / (t[2]-t[1])\n",
    "g20 = np.real(exidft_cplx(G20)) / (t[2]-t[1])\n",
    "\n",
    "print(\"Time elapsed: {:.3f}s\".format(time.time()-STARTTIME))"
   ]
  },
  {
   "cell_type": "code",
   "execution_count": null,
   "metadata": {},
   "outputs": [],
   "source": [
    "plt.figure(figsize = (15, 5))\n",
    "plt.plot(t, g00[:len(t)])\n",
    "plt.plot(t, g10[:len(t)])\n",
    "plt.plot(t, g20[:len(t)])\n",
    "plt.legend(['x','y','z'])\n",
    "plt.grid(True)\n",
    "plt.xlabel(\"Time (s)\")\n",
    "plt.ylabel(\"Velocity (m/s)\")\n",
    "plt.show()"
   ]
  },
  {
   "cell_type": "code",
   "execution_count": null,
   "metadata": {},
   "outputs": [],
   "source": [
    "# g[:,i] (\"effective\" Green's function) should equal the numerical convolution of \n",
    "# g00 (\"true\" Green's function) and FT (source time function)!\n",
    "plt.figure(figsize = (15, 10))\n",
    "if GREENS_FUNCTION == 'pow34':\n",
    "    plt.subplot(3, 1, 1)\n",
    "    plt.plot(t, np.convolve(g00[:len(t)], FT)[:len(t)], 'k')\n",
    "    plt.plot(t, g[:,0], 'r.')\n",
    "    plt.legend([\"Python\", \"runwaterPML\"])\n",
    "    plt.grid(True)\n",
    "    plt.subplot(3, 1, 2)\n",
    "    plt.plot(t, np.convolve(g10[:len(t)], FT)[:len(t)], 'k')\n",
    "    plt.plot(t, g[:,1], 'r.')\n",
    "    plt.legend([\"Python\", \"runwaterPML\"])\n",
    "    plt.ylabel(\"Velocity (m/s)\")\n",
    "    plt.grid(True)\n",
    "    plt.subplot(3, 1, 3)\n",
    "    plt.plot(t, np.convolve(g20[:len(t)], FT)[:len(t)], 'k')\n",
    "    plt.plot(t, g[:,2], 'r.')\n",
    "    plt.legend([\"Python\", \"runwaterPML\"])\n",
    "    plt.xlabel(\"Time (s)\")\n",
    "    plt.grid(True)\n",
    "elif GREENS_FUNCTION == 'cos':\n",
    "    plt.subplot(3, 1, 1)\n",
    "    plt.plot(t[1:], np.convolve(g00, FT)[4096:], 'k')\n",
    "    plt.plot(t, g[:,0], 'r.')\n",
    "    plt.legend([\"Python\", \"runwaterPML\"])\n",
    "    plt.grid(True)\n",
    "    plt.subplot(3, 1, 2)\n",
    "    plt.plot(t[1:], np.convolve(g10, FT)[4096:], 'k')\n",
    "    plt.plot(t, g[:,1], 'r.')\n",
    "    plt.legend([\"Python\", \"runwaterPML\"])\n",
    "    plt.ylabel(\"Velocity (m/s)\")\n",
    "    plt.grid(True)\n",
    "    plt.subplot(3, 1, 3)\n",
    "    plt.plot(t[1:], np.convolve(g20, FT)[4096:], 'k')\n",
    "    plt.plot(t, g[:,2], 'r.') \n",
    "    plt.legend([\"Python\", \"runwaterPML\"])\n",
    "    plt.xlabel(\"Time (s)\")\n",
    "    plt.grid(True)\n",
    "elif GREENS_FUNCTION == 'pow5':\n",
    "    plt.subplot(3, 1, 1)\n",
    "    plt.plot(t[:-1], np.convolve(g00[:len(t)], FT)[len(T):], 'k')\n",
    "    plt.plot(t, g[:,0], 'r.')\n",
    "    plt.legend([\"Python\", \"runwaterPML\"])\n",
    "    plt.grid(True)\n",
    "    plt.subplot(3, 1, 2)\n",
    "    plt.plot(t[:-1], np.convolve(g10[:len(t)], FT)[len(T):], 'k')\n",
    "    plt.plot(t, g[:,1], 'r.')\n",
    "    plt.legend([\"Python\", \"runwaterPML\"])\n",
    "    plt.ylabel(\"Velocity (m/s)\")\n",
    "    plt.grid(True)\n",
    "    plt.subplot(3, 1, 3)\n",
    "    plt.plot(t[:-1], np.convolve(g20[:len(t)], FT)[len(T):], 'k')\n",
    "    plt.plot(t, g[:,2], 'r.')\n",
    "    plt.legend([\"Python\", \"runwaterPML\"])\n",
    "    plt.xlabel(\"Time (s)\")\n",
    "    plt.grid(True)\n",
    "plt.show()"
   ]
  },
  {
   "cell_type": "code",
   "execution_count": null,
   "metadata": {},
   "outputs": [],
   "source": []
  }
 ],
 "metadata": {
  "kernelspec": {
   "display_name": "Python 3",
   "language": "python",
   "name": "python3"
  },
  "language_info": {
   "codemirror_mode": {
    "name": "ipython",
    "version": 3
   },
   "file_extension": ".py",
   "mimetype": "text/x-python",
   "name": "python",
   "nbconvert_exporter": "python",
   "pygments_lexer": "ipython3",
   "version": "3.7.10"
  }
 },
 "nbformat": 4,
 "nbformat_minor": 4
}
