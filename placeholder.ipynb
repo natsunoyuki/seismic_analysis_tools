{
 "cells": [
  {
   "cell_type": "code",
   "execution_count": 1,
   "id": "81295de8",
   "metadata": {},
   "outputs": [],
   "source": [
    "import numpy as np\n",
    "import matplotlib.pyplot as plt\n",
    "\n",
    "import time\n",
    "import os\n",
    "import struct\n",
    "\n",
    "from ymaeda_tools.read_snapshot import extract_snapshot_1d, extract_snapshot\n",
    "\n",
    "df = 0.002441406 # frequency step size used by YMAEDA_TOOLS\n",
    "f = np.arange(0, df * 2049, df) # frequency half space\n",
    "F = np.arange(0, df * 4096, df) # frequency full space"
   ]
  },
  {
   "cell_type": "code",
   "execution_count": 2,
   "id": "ebb19801",
   "metadata": {},
   "outputs": [],
   "source": [
    "#HDD_LOC = \"/Users/ynatsume/jupyter_main/Shinmoedake Data/\" \n",
    "HDD_LOC = \"/Volumes/TOSHIBA_HDD/Final Year Projects/Shinmoedake Data/EIC_BACKUP/home/natsume/\"\n",
    "GREENS_FUNCTION = \"GFpow34\""
   ]
  },
  {
   "cell_type": "code",
   "execution_count": 3,
   "id": "17eca3e9",
   "metadata": {},
   "outputs": [],
   "source": [
    "# Observation station names.\n",
    "stations = [\"SMN\", \"SMW\"]\n",
    "\n",
    "# Green functions impulse directions.\n",
    "impulses = [\"_EW_SMALL\", \"_NS_SMALL\", \"_UD_SMALL\"]\n",
    "\n",
    "# Observed motion components.\n",
    "components = [\"x\", \"y\", \"z\"]"
   ]
  },
  {
   "cell_type": "code",
   "execution_count": 4,
   "id": "1ecfdde0",
   "metadata": {},
   "outputs": [],
   "source": [
    "# Candidate source location.\n",
    "\n",
    "x_src = -10900\n",
    "y_src = -121100\n",
    "z_src = 1000"
   ]
  },
  {
   "cell_type": "code",
   "execution_count": 5,
   "id": "ccbc1deb",
   "metadata": {},
   "outputs": [],
   "source": [
    "STATION = stations[0] + impulses[0]\n",
    "snapshot_dir = os.path.join(HDD_LOC, GREENS_FUNCTION, STATION, \"PML/snapshot\")"
   ]
  },
  {
   "cell_type": "code",
   "execution_count": 6,
   "id": "b2ceb762",
   "metadata": {},
   "outputs": [],
   "source": [
    "# Green's functions time domain parameters.\n",
    "\n",
    "t0 = 0.0\n",
    "t1 = 12.0\n",
    "dt = 0.1\n",
    "\n",
    "n_steps = int((t1 - t0) / dt) + 1 # number of time steps\n",
    "g = np.zeros(n_steps) # final output green functions in t; x, y, z\n",
    "t = np.arange(t0, t1 + dt, dt) # final output times \n",
    "\n",
    "BYTELEN = 8 # snapshot .3db file byte length"
   ]
  },
  {
   "cell_type": "code",
   "execution_count": 11,
   "id": "14cc23a3",
   "metadata": {},
   "outputs": [
    {
     "name": "stdout",
     "output_type": "stream",
     "text": [
      "GFpow34/SMN_EW_SMALL/source.Fx.t0.0000.3db\n",
      "(161, 160, 140) (-11800.0, -121495.0, 5.0) (10.0, 10.0, 10.0)\n",
      "GFpow34/SMN_EW_SMALL/source.Fy.t0.0000.3db\n",
      "(160, 161, 140) (-11795.0, -121500.0, 5.0) (10.0, 10.0, 10.0)\n",
      "GFpow34/SMN_EW_SMALL/source.Fz.t0.0000.3db\n",
      "(160, 160, 141) (-11795.0, -121495.0, 0.0) (10.0, 10.0, 10.0)\n",
      "GFpow34/SMN_NS_SMALL/source.Fx.t0.0000.3db\n",
      "(161, 160, 140) (-11800.0, -121495.0, 5.0) (10.0, 10.0, 10.0)\n",
      "GFpow34/SMN_NS_SMALL/source.Fy.t0.0000.3db\n",
      "(160, 161, 140) (-11795.0, -121500.0, 5.0) (10.0, 10.0, 10.0)\n",
      "GFpow34/SMN_NS_SMALL/source.Fz.t0.0000.3db\n",
      "(160, 160, 141) (-11795.0, -121495.0, 0.0) (10.0, 10.0, 10.0)\n",
      "GFpow34/SMN_UD_SMALL/source.Fx.t0.0000.3db\n",
      "(161, 160, 140) (-11800.0, -121495.0, 5.0) (10.0, 10.0, 10.0)\n",
      "GFpow34/SMN_UD_SMALL/source.Fy.t0.0000.3db\n",
      "(160, 161, 140) (-11795.0, -121500.0, 5.0) (10.0, 10.0, 10.0)\n",
      "GFpow34/SMN_UD_SMALL/source.Fz.t0.0000.3db\n",
      "(160, 160, 141) (-11795.0, -121495.0, 0.0) (10.0, 10.0, 10.0)\n",
      "GFpow34/SMW_EW_SMALL/source.Fx.t0.0000.3db\n",
      "(161, 160, 140) (-11800.0, -121495.0, 5.0) (10.0, 10.0, 10.0)\n",
      "GFpow34/SMW_EW_SMALL/source.Fy.t0.0000.3db\n",
      "(160, 161, 140) (-11795.0, -121500.0, 5.0) (10.0, 10.0, 10.0)\n",
      "GFpow34/SMW_EW_SMALL/source.Fz.t0.0000.3db\n",
      "(160, 160, 141) (-11795.0, -121495.0, 0.0) (10.0, 10.0, 10.0)\n",
      "GFpow34/SMW_NS_SMALL/source.Fx.t0.0000.3db\n",
      "(161, 160, 140) (-11800.0, -121495.0, 5.0) (10.0, 10.0, 10.0)\n",
      "GFpow34/SMW_NS_SMALL/source.Fy.t0.0000.3db\n",
      "(160, 161, 140) (-11795.0, -121500.0, 5.0) (10.0, 10.0, 10.0)\n",
      "GFpow34/SMW_NS_SMALL/source.Fz.t0.0000.3db\n",
      "(160, 160, 141) (-11795.0, -121495.0, 0.0) (10.0, 10.0, 10.0)\n",
      "GFpow34/SMW_UD_SMALL/source.Fx.t0.0000.3db\n",
      "(161, 160, 140) (-11800.0, -121495.0, 5.0) (10.0, 10.0, 10.0)\n",
      "GFpow34/SMW_UD_SMALL/source.Fy.t0.0000.3db\n",
      "(160, 161, 140) (-11795.0, -121500.0, 5.0) (10.0, 10.0, 10.0)\n",
      "GFpow34/SMW_UD_SMALL/source.Fz.t0.0000.3db\n",
      "(160, 160, 141) (-11795.0, -121495.0, 0.0) (10.0, 10.0, 10.0)\n"
     ]
    }
   ],
   "source": [
    "# Check if the spatial parameters are consistent across all stations and impulses.\n",
    "\n",
    "for s in stations:\n",
    "    for i in impulses:\n",
    "        for k in components:\n",
    "            stn = s + i\n",
    "            snap_dir = os.path.join(HDD_LOC, GREENS_FUNCTION, stn, \"PML/snapshot\")\n",
    "            snapshot_file = os.path.join(snapshot_dir, \"source.F\" + k + \".t\" + \"0.0000\" + \".3db\")\n",
    "            with open(snapshot_file, mode = \"rb\") as File:\n",
    "                fileContent = File.read()\n",
    "                N = struct.unpack(\"iii\", fileContent[0:12])\n",
    "                x0 = struct.unpack(\"ddd\", fileContent[12:36])\n",
    "                dx = struct.unpack(\"ddd\", fileContent[36:60])\n",
    "            print(os.path.join(GREENS_FUNCTION, stn, \"source.F\" + k + \".t\" + \"0.0000\" + \".3db\"))\n",
    "            print(N, x0, dx)"
   ]
  },
  {
   "cell_type": "code",
   "execution_count": null,
   "id": "0e2921e2",
   "metadata": {},
   "outputs": [],
   "source": [
    "for n in range(n_steps): # loop over all time steps. One file for one time step...\n",
    "    TIME_ZEROS = format(t0 + dt * n, \"0.4f\")\n",
    "    snapshot_file = os.path.join(snapshot_dir, \"source.F\" + k + \".t\" + TIME_ZEROS + \".3db\")\n",
    "            \n",
    "    with open(snapshot_file, mode = \"rb\") as File:\n",
    "        fileContent = File.read()\n",
    "        if n == 0:\n",
    "            N = struct.unpack(\"iii\", fileContent[0:12]) # number of elements per axis\n",
    "            x0 = struct.unpack(\"ddd\", fileContent[12:36]) # starting point of each axis\n",
    "            dx = struct.unpack(\"ddd\", fileContent[36:60]) # distance step size per axis\n",
    "            data_length = int((len(fileContent) - 60) / BYTELEN)\n",
    "                \n",
    "        # From the 3D snapshot data, extract only the data for the wanted point [X, Y Z].\n",
    "        # Convert the geographical coordinates to indices of the binary data:\n",
    "        idx, idy, idz = snapshot_stnloc(N, x0, dx, x_src, y_src, z_src)\n",
    "        \n",
    "        # We have to perform spatial derivatives of the Green's functions with respect\n",
    "        # to x, y and z. Therefore instead of actually loading the snapshot at the \n",
    "        # specified candidate location, we load the snapshot time series for the grid\n",
    "        # points surrounding the candidate location.\n",
    "        \n",
    "        counter = index_convert31(idx, idy, idz, N[0], N[1], N[2])\n",
    "        L = 60 + BYTELEN * counter # Left most index of the wanted data.\n",
    "        R = L + BYTELEN            # Right most index of the wanted data.\n",
    "        g[n] = struct.unpack(\"d\", fileContent[L:R])[0]"
   ]
  }
 ],
 "metadata": {
  "kernelspec": {
   "display_name": "Python 3",
   "language": "python",
   "name": "python3"
  },
  "language_info": {
   "codemirror_mode": {
    "name": "ipython",
    "version": 3
   },
   "file_extension": ".py",
   "mimetype": "text/x-python",
   "name": "python",
   "nbconvert_exporter": "python",
   "pygments_lexer": "ipython3",
   "version": "3.7.10"
  }
 },
 "nbformat": 4,
 "nbformat_minor": 5
}
